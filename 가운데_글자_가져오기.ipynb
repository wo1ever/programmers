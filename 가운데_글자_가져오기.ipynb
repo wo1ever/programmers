{
 "cells": [
  {
   "cell_type": "markdown",
   "metadata": {},
   "source": [
    "# 가운데 글자 가져오기\n",
    "\n",
    "[문제링크](https://programmers.co.kr/learn/courses/30/lessons/12903?language=python3)\n",
    "\n",
    "단어 s의 가운데 글자를 반환하는 함수, solution을 만들어 보세요. 단어의 길이가 짝수라면 가운데 두글자를 반환하면 됩니다.\n",
    "\n",
    "### 제한사항\n",
    "\n",
    "- s는 길이가 1 이상, 100이하인 스트링입니다.\n",
    "\n",
    "### 입출력 예\n",
    "\n",
    "| s     | return |\n",
    "| ----- | ------ |\n",
    "| abcde | c      |\n",
    "| qwer  | we     |"
   ]
  },
  {
   "cell_type": "code",
   "execution_count": 44,
   "metadata": {},
   "outputs": [],
   "source": [
    "def solution(s):\n",
    "    length = len(s) % 2\n",
    "    if length == 0:\n",
    "        idx = int(len(s)/2)\n",
    "        return s[idx-1:idx+1]\n",
    "    else:\n",
    "        idx = int((len(s)-1)/2)\n",
    "        return s[idx]"
   ]
  },
  {
   "cell_type": "code",
   "execution_count": 46,
   "metadata": {},
   "outputs": [
    {
     "data": {
      "text/plain": [
       "'c'"
      ]
     },
     "execution_count": 46,
     "metadata": {},
     "output_type": "execute_result"
    }
   ],
   "source": [
    "solution('abcde')"
   ]
  },
  {
   "cell_type": "code",
   "execution_count": null,
   "metadata": {},
   "outputs": [],
   "source": []
  }
 ],
 "metadata": {
  "kernelspec": {
   "display_name": "Python 3",
   "language": "python",
   "name": "python3"
  },
  "language_info": {
   "codemirror_mode": {
    "name": "ipython",
    "version": 3
   },
   "file_extension": ".py",
   "mimetype": "text/x-python",
   "name": "python",
   "nbconvert_exporter": "python",
   "pygments_lexer": "ipython3",
   "version": "3.6.5"
  }
 },
 "nbformat": 4,
 "nbformat_minor": 2
}
