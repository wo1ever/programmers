{
 "cells": [
  {
   "cell_type": "markdown",
   "metadata": {},
   "source": [
    "# 멀리 뛰기\n",
    "\n",
    "[문제링크](https://programmers.co.kr/learn/courses/30/lessons/12914?language=python3)\n",
    "\n",
    "효진이는 멀리 뛰기를 연습하고 있습니다. 효진이는 한번에 1칸, 또는 2칸을 뛸 수 있습니다. 칸이 총 4개 있을 때, 효진이는\n",
    "\n",
    "    (1칸, 1칸, 1칸, 1칸)\n",
    "    (1칸, 2칸, 1칸)\n",
    "    (1칸, 1칸, 2칸)\n",
    "    (2칸, 1칸, 1칸)\n",
    "    (2칸, 2칸)\n",
    "\n",
    "의 5가지 방법으로 맨 끝 칸에 도달할 수 있습니다. 멀리뛰기에 사용될 칸의 수 n이 주어질 때, 효진이가 끝에 도달하는 방법이 몇 가지인지 알아내, 여기에 1234567를 나눈 나머지를 리턴하는 함수, solution을 완성하세요. 예를 들어 4가 입력된다면, 5를 return하면 됩니다.\n",
    "\n",
    "### 제한 사항\n",
    "\n",
    "- n은 1 이상, 2000 이하인 정수입니다.\n",
    "\n",
    "### 입출력 예\n",
    "\n",
    "| n    | result |\n",
    "| ---- | ------ |\n",
    "| 4    | 5      |\n",
    "| 3    | 3      |\n",
    "\n",
    "### 입출력 예 설명\n",
    "\n",
    "#### 입출력 예 #1\n",
    "위에서 설명한 내용과 같습니다.\n",
    "\n",
    "#### 입출력 예 #2\n",
    "(2칸, 1칸)\n",
    "(1칸, 2칸)\n",
    "(1칸, 1칸, 1칸)\n",
    "총 3가지 방법으로 멀리 뛸 수 있습니다."
   ]
  },
  {
   "cell_type": "code",
   "execution_count": null,
   "metadata": {},
   "outputs": [],
   "source": []
  }
 ],
 "metadata": {
  "kernelspec": {
   "display_name": "Python 3",
   "language": "python",
   "name": "python3"
  },
  "language_info": {
   "codemirror_mode": {
    "name": "ipython",
    "version": 3
   },
   "file_extension": ".py",
   "mimetype": "text/x-python",
   "name": "python",
   "nbconvert_exporter": "python",
   "pygments_lexer": "ipython3",
   "version": "3.6.5"
  }
 },
 "nbformat": 4,
 "nbformat_minor": 2
}
