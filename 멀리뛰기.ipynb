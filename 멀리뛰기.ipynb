{
 "cells": [
  {
   "cell_type": "markdown",
   "metadata": {},
   "source": [
    "# 멀리 뛰기\n",
    "\n",
    "[문제링크](https://programmers.co.kr/learn/courses/30/lessons/12914?language=python3)\n",
    "\n",
    "효진이는 멀리 뛰기를 연습하고 있습니다. 효진이는 한번에 1칸, 또는 2칸을 뛸 수 있습니다. 칸이 총 4개 있을 때, 효진이는\n",
    "\n",
    "    (1칸, 1칸, 1칸, 1칸)\n",
    "    (1칸, 2칸, 1칸)\n",
    "    (1칸, 1칸, 2칸)\n",
    "    (2칸, 1칸, 1칸)\n",
    "    (2칸, 2칸)\n",
    "\n",
    "의 5가지 방법으로 맨 끝 칸에 도달할 수 있습니다. 멀리뛰기에 사용될 칸의 수 n이 주어질 때, 효진이가 끝에 도달하는 방법이 몇 가지인지 알아내, 여기에 1234567를 나눈 나머지를 리턴하는 함수, solution을 완성하세요. 예를 들어 4가 입력된다면, 5를 return하면 됩니다.\n",
    "\n",
    "### 제한 사항\n",
    "\n",
    "- n은 1 이상, 2000 이하인 정수입니다.\n",
    "\n",
    "### 입출력 예\n",
    "\n",
    "| n    | result |\n",
    "| ---- | ------ |\n",
    "| 4    | 5      |\n",
    "| 3    | 3      |\n",
    "\n",
    "### 입출력 예 설명\n",
    "\n",
    "#### 입출력 예 #1\n",
    "위에서 설명한 내용과 같습니다.\n",
    "\n",
    "#### 입출력 예 #2\n",
    "(2칸, 1칸)\n",
    "(1칸, 2칸)\n",
    "(1칸, 1칸, 1칸)\n",
    "총 3가지 방법으로 멀리 뛸 수 있습니다."
   ]
  },
  {
   "cell_type": "markdown",
   "metadata": {},
   "source": [
    "http://j1w2k3.tistory.com/743\n",
    "\n",
    "를 참고하여 규칙 찾아내기! 1학년때 순열과 조합 엄청 했던 기억이 난다.....😢  \n",
    "그리고 꽤나 고민한 끝에, 나름의 공식을 만들었다.  \n",
    "적용해 보기 위해 간단하게 다른 라이브러리를 import해서 사용하기로 한다."
   ]
  },
  {
   "cell_type": "code",
   "execution_count": 4,
   "metadata": {},
   "outputs": [],
   "source": [
    "import math"
   ]
  },
  {
   "cell_type": "code",
   "execution_count": 48,
   "metadata": {},
   "outputs": [
    {
     "data": {
      "text/plain": [
       "6"
      ]
     },
     "execution_count": 48,
     "metadata": {},
     "output_type": "execute_result"
    }
   ],
   "source": [
    "n = 3\n",
    "math.factorial(n)"
   ]
  },
  {
   "cell_type": "markdown",
   "metadata": {},
   "source": [
    "일단 수식을 세웠다! 엄청나게 계산해 본 결과, 다음과 같은 수식으로 표현되는 듯 싶다."
   ]
  },
  {
   "cell_type": "code",
   "execution_count": 120,
   "metadata": {},
   "outputs": [
    {
     "data": {
      "text/plain": [
       "4.0"
      ]
     },
     "execution_count": 120,
     "metadata": {},
     "output_type": "execute_result"
    }
   ],
   "source": [
    "n = 4\n",
    "while count_1 > 1 :\n",
    "    plus = math.factorial(n) / math.factorial(count_1) * math.factorial(count_2)\n",
    "    n -= 1\n",
    "    count_1 = count_1 - 2\n",
    "    count_2 = count_2 + 1\n",
    "    answer = answer + plus\n",
    "\n",
    "answer"
   ]
  },
  {
   "cell_type": "markdown",
   "metadata": {},
   "source": [
    "라고 생각했는데, 왜 5가 아니고 자꾸 4가 나오는 지 다시 계산을 많이 해 보았지만, 수식에 () 괄호를 안 넣어주어서 그랬다.😅\n",
    "\n",
    "수식의 분자에 () 를 넣어주니 깔끔하게 해결되었다."
   ]
  },
  {
   "cell_type": "code",
   "execution_count": 121,
   "metadata": {},
   "outputs": [],
   "source": [
    "import math\n",
    "\n",
    "def solution(n):\n",
    "    count_1 = n\n",
    "    count_2 = 0\n",
    "    answer = 0\n",
    "    \n",
    "    while count_1 >= 0 :\n",
    "        answer += math.factorial(n) / (math.factorial(count_2) * math.factorial(count_1))\n",
    "        n -= 1\n",
    "        count_1 -= 2\n",
    "        count_2 += 1\n",
    "    return answer % 1234567"
   ]
  },
  {
   "cell_type": "code",
   "execution_count": 122,
   "metadata": {},
   "outputs": [
    {
     "data": {
      "text/plain": [
       "3.0"
      ]
     },
     "execution_count": 122,
     "metadata": {},
     "output_type": "execute_result"
    }
   ],
   "source": [
    "solution(3)"
   ]
  },
  {
   "cell_type": "code",
   "execution_count": 123,
   "metadata": {},
   "outputs": [
    {
     "data": {
      "text/plain": [
       "5.0"
      ]
     },
     "execution_count": 123,
     "metadata": {},
     "output_type": "execute_result"
    }
   ],
   "source": [
    "solution(4)"
   ]
  },
  {
   "cell_type": "markdown",
   "metadata": {},
   "source": [
    "일단 문제의 예제는 모두 합격했다.  \n",
    "하지만 return을 1234567로 나눈 나머지를 출력하라는 것의 의미를 도저히 모르겠다. 스터디원들한테 물어보았는데 그중 한 분의 말씀으로는, 종종 알고리즘을 푸는 문제에서 정답을 아주 큰 숫자로 나눈 나머지의 값으로 출력하라는 문제가 있다고 한다. 하지만 모두들 왜 그래야 하는 지 모른다는 게 함정이었다."
   ]
  },
  {
   "cell_type": "markdown",
   "metadata": {},
   "source": [
    "#### 앗...\n",
    "\n",
    "역시나 들뜬 마음으로 코드를 채점해 보았는데, 1~6번 문제까지는 무리없이 통과했다. 하지만 7~16번까지 모두 틀려버렸다.  \n",
    "나의 수식에는 문제가 없을텐데.....?!!!! 다시 한 번 계산해 보아야 겠다.\n",
    "\n",
    "> n을 계산하며 나열해보니, 내가 계산한 값들엔 이런 규칙이 있었다.\n",
    ">\n",
    "| n    | 경우의수 | 증가분 |\n",
    "| ---- | ------ | ------ |\n",
    "| 1    | 1      | -      |\n",
    "| 2    | 2      | 1      |\n",
    "| 3    | 3      | 2      |\n",
    "| 4    | 5      | 3      |\n",
    "| 5    | 8      | 5      |\n",
    "| 6    | 13     | 8      |\n",
    "| 7    | 21     | 13     |\n",
    "| 8    | 34 ?   | ...    |\n",
    "| ...  | ...   | ...    |\n",
    "\n",
    "#### 피보나치 수열!\n",
    "\n",
    "그렇다. 이 문제는 결국 피보나치 수열 문제였던 것이다. 그렇다면 피보나치 수열은 어떻게 코딩으로 재현할 수 있을까 방법을 연구해 본다.\n",
    "\n",
    "일단,피보나치의 식에 충실하게 재귀함수를 이용하여 작성해 보았다."
   ]
  },
  {
   "cell_type": "code",
   "execution_count": 198,
   "metadata": {},
   "outputs": [],
   "source": [
    "def fibonacci(n):\n",
    "    return (fibonacci(n-1) + fibonacci(n-2))%1234567 if num > 2 else num%1234567"
   ]
  },
  {
   "cell_type": "code",
   "execution_count": 199,
   "metadata": {},
   "outputs": [
    {
     "ename": "RecursionError",
     "evalue": "maximum recursion depth exceeded in comparison",
     "output_type": "error",
     "traceback": [
      "\u001b[0;31m---------------------------------------------------------------------------\u001b[0m",
      "\u001b[0;31mRecursionError\u001b[0m                            Traceback (most recent call last)",
      "\u001b[0;32m<ipython-input-199-6a5829d91f3f>\u001b[0m in \u001b[0;36m<module>\u001b[0;34m()\u001b[0m\n\u001b[0;32m----> 1\u001b[0;31m \u001b[0mfibonacci\u001b[0m\u001b[0;34m(\u001b[0m\u001b[0;36m6\u001b[0m\u001b[0;34m)\u001b[0m\u001b[0;34m\u001b[0m\u001b[0m\n\u001b[0m",
      "\u001b[0;32m<ipython-input-198-3d5919c894b1>\u001b[0m in \u001b[0;36mfibonacci\u001b[0;34m(n)\u001b[0m\n\u001b[1;32m      1\u001b[0m \u001b[0;32mdef\u001b[0m \u001b[0mfibonacci\u001b[0m\u001b[0;34m(\u001b[0m\u001b[0mn\u001b[0m\u001b[0;34m)\u001b[0m\u001b[0;34m:\u001b[0m\u001b[0;34m\u001b[0m\u001b[0m\n\u001b[0;32m----> 2\u001b[0;31m     \u001b[0;32mreturn\u001b[0m \u001b[0;34m(\u001b[0m\u001b[0mfibonacci\u001b[0m\u001b[0;34m(\u001b[0m\u001b[0mn\u001b[0m\u001b[0;34m-\u001b[0m\u001b[0;36m1\u001b[0m\u001b[0;34m)\u001b[0m \u001b[0;34m+\u001b[0m \u001b[0mfibonacci\u001b[0m\u001b[0;34m(\u001b[0m\u001b[0mn\u001b[0m\u001b[0;34m-\u001b[0m\u001b[0;36m2\u001b[0m\u001b[0;34m)\u001b[0m\u001b[0;34m)\u001b[0m\u001b[0;34m%\u001b[0m\u001b[0;36m1234567\u001b[0m \u001b[0;32mif\u001b[0m \u001b[0mnum\u001b[0m \u001b[0;34m>\u001b[0m \u001b[0;36m2\u001b[0m \u001b[0;32melse\u001b[0m \u001b[0mnum\u001b[0m\u001b[0;34m%\u001b[0m\u001b[0;36m1234567\u001b[0m\u001b[0;34m\u001b[0m\u001b[0m\n\u001b[0m",
      "... last 1 frames repeated, from the frame below ...\n",
      "\u001b[0;32m<ipython-input-198-3d5919c894b1>\u001b[0m in \u001b[0;36mfibonacci\u001b[0;34m(n)\u001b[0m\n\u001b[1;32m      1\u001b[0m \u001b[0;32mdef\u001b[0m \u001b[0mfibonacci\u001b[0m\u001b[0;34m(\u001b[0m\u001b[0mn\u001b[0m\u001b[0;34m)\u001b[0m\u001b[0;34m:\u001b[0m\u001b[0;34m\u001b[0m\u001b[0m\n\u001b[0;32m----> 2\u001b[0;31m     \u001b[0;32mreturn\u001b[0m \u001b[0;34m(\u001b[0m\u001b[0mfibonacci\u001b[0m\u001b[0;34m(\u001b[0m\u001b[0mn\u001b[0m\u001b[0;34m-\u001b[0m\u001b[0;36m1\u001b[0m\u001b[0;34m)\u001b[0m \u001b[0;34m+\u001b[0m \u001b[0mfibonacci\u001b[0m\u001b[0;34m(\u001b[0m\u001b[0mn\u001b[0m\u001b[0;34m-\u001b[0m\u001b[0;36m2\u001b[0m\u001b[0;34m)\u001b[0m\u001b[0;34m)\u001b[0m\u001b[0;34m%\u001b[0m\u001b[0;36m1234567\u001b[0m \u001b[0;32mif\u001b[0m \u001b[0mnum\u001b[0m \u001b[0;34m>\u001b[0m \u001b[0;36m2\u001b[0m \u001b[0;32melse\u001b[0m \u001b[0mnum\u001b[0m\u001b[0;34m%\u001b[0m\u001b[0;36m1234567\u001b[0m\u001b[0;34m\u001b[0m\u001b[0m\n\u001b[0m",
      "\u001b[0;31mRecursionError\u001b[0m: maximum recursion depth exceeded in comparison"
     ]
    }
   ],
   "source": [
    "fibonacci(6)"
   ]
  },
  {
   "cell_type": "markdown",
   "metadata": {},
   "source": [
    "그런데 최대 재귀의 깊이가 넘어버려, 함수 실행이 안된다. 다른 방법을 생각해 본다."
   ]
  },
  {
   "cell_type": "code",
   "execution_count": 200,
   "metadata": {},
   "outputs": [],
   "source": [
    "def fibonacci(n):\n",
    "    a, b = 1, 0\n",
    "    if n == 1: return 1\n",
    "    else:\n",
    "        for i in range(n+1):\n",
    "            a, b = b, a + b\n",
    "        return b"
   ]
  },
  {
   "cell_type": "code",
   "execution_count": 201,
   "metadata": {},
   "outputs": [
    {
     "data": {
      "text/plain": [
       "13"
      ]
     },
     "execution_count": 201,
     "metadata": {},
     "output_type": "execute_result"
    }
   ],
   "source": [
    "fibonacci(6)"
   ]
  },
  {
   "cell_type": "markdown",
   "metadata": {},
   "source": [
    "- https://docs.python.org/3/tutorial/modules.html\n",
    "- https://technobeans.com/2012/04/16/5-ways-of-fibonacci-in-python/\n"
   ]
  },
  {
   "cell_type": "markdown",
   "metadata": {},
   "source": [
    "고마워요 파이썬!  \n",
    "위의 내 계산 식이 어떤 부분이 잘못되었는지 다시 계산해 보아야겠다."
   ]
  },
  {
   "cell_type": "code",
   "execution_count": null,
   "metadata": {},
   "outputs": [],
   "source": []
  },
  {
   "cell_type": "code",
   "execution_count": null,
   "metadata": {},
   "outputs": [],
   "source": []
  }
 ],
 "metadata": {
  "kernelspec": {
   "display_name": "Python 3",
   "language": "python",
   "name": "python3"
  },
  "language_info": {
   "codemirror_mode": {
    "name": "ipython",
    "version": 3
   },
   "file_extension": ".py",
   "mimetype": "text/x-python",
   "name": "python",
   "nbconvert_exporter": "python",
   "pygments_lexer": "ipython3",
   "version": "3.6.5"
  }
 },
 "nbformat": 4,
 "nbformat_minor": 2
}
