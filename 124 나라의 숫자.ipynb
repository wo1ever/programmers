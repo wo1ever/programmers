{
  "nbformat": 4,
  "nbformat_minor": 0,
  "metadata": {
    "colab": {
      "name": "124나라의숫자.ipynb",
      "version": "0.3.2",
      "provenance": [],
      "include_colab_link": true
    },
    "kernelspec": {
      "name": "python3",
      "display_name": "Python 3"
    }
  },
  "cells": [
    {
      "cell_type": "markdown",
      "metadata": {
        "id": "view-in-github",
        "colab_type": "text"
      },
      "source": [
        "<a href=\"https://colab.research.google.com/github/wo1ever/programmers/blob/master/124%20%EB%82%98%EB%9D%BC%EC%9D%98%20%EC%88%AB%EC%9E%90.ipynb\" target=\"_parent\"><img src=\"https://colab.research.google.com/assets/colab-badge.svg\" alt=\"Open In Colab\"/></a>"
      ]
    },
    {
      "metadata": {
        "id": "3jKmJgA2mNgd",
        "colab_type": "text"
      },
      "cell_type": "markdown",
      "source": [
        "# 124 나라의 숫자\n",
        "\n",
        "124 나라가 있습니다. 124 나라에서는 10진법이 아닌 다음과 같은 자신들만의 규칙으로 수를 표현합니다.\n",
        "\n",
        "\n",
        "- 124 나라에는 자연수만 존재합니다.\n",
        "- 124 나라에는 모든 수를 표현할 때 1, 2, 4만 사용합니다.\n",
        "- 예를 들어서 124 나라에서 사용하는 숫자는 다음과 같이 변환됩니다.\n",
        "\n",
        "| 10진수 | 124진수 |\n",
        "| ------ | ------- |\n",
        "| 1      | 1       |\n",
        "| 2      | 2       |\n",
        "| 3      | 4       |\n",
        "| 4      | 11      |\n",
        "| 5      | 12      |\n",
        "| 6      | 14      |\n",
        "| 7      | 21      |\n",
        "| 8      | 22      |\n",
        "| 9      | 24      |\n",
        "| 10     | 41      |\n",
        "\n",
        "\n",
        "자연수 n이 매개변수로 주어질 때, n을 124 나라에서 사용하는 숫자로 바꾼 값을 return 하도록 solution 함수를 완성해 주세요.\n",
        "\n",
        "### 제한사항\n",
        "\n",
        "- n은 500,000,000이하의 자연수 입니다.\n",
        "\n",
        "### 입출력 예\n",
        "\n",
        "| n    | result |\n",
        "| ---- | ------ |\n",
        "| 1    | 1      |\n",
        "| 2    | 2      |\n",
        "| 3    | 4      |\n",
        "| 4    | 11     |"
      ]
    },
    {
      "metadata": {
        "id": "p2qxiDNw7EBX",
        "colab_type": "text"
      },
      "cell_type": "markdown",
      "source": [
        "# 의식의 흐름\n",
        "\n",
        "처음에는 3진수로 바꾸는 방법과 똑같을 것이라고 생각해서 금방 끝날 줄 알았다.\n",
        "그런데 0이 아닌 4가 들어가있는 바람에, 단순히 n % 3 이  인덱스가 되는 형식이 아니었다.\n",
        "\n",
        "숫자를 종이에 나열해 보니, 규칙이 있긴 있었는데 이걸 어떻게 해결해야할까.. 엄청 고민이 되었다.\n",
        "\n",
        "처음에는 아주아주 직관적으로 생각해보고, 수업때 TDD 해본 것 처럼(ㅋㅋㅋ) 예시를 하나 잡아, ~~통과시켜 보려고 했으나 시킬 수 없었고~~ 대략적인 생각을 해 보았다...\n",
        "\n",
        "뭔가 규칙을 잘못 찾았기 때문이었다...!"
      ]
    },
    {
      "metadata": {
        "id": "BLYrjS4smGIA",
        "colab_type": "code",
        "colab": {}
      },
      "cell_type": "code",
      "source": [
        "def solution(n):\n",
        "  N = \"124\"\n",
        "  \n",
        "  num_list = []\n",
        "  \n",
        "  div1, mod1 = divmod(n,3)\n",
        "  \n",
        "  if mod1 == 1:\n",
        "    num_list.append(N[0])\n",
        "  elif mod1 == 2:\n",
        "    num_list.append(N[1])\n",
        "  else:\n",
        "    num_list.append(N[2])\n",
        "\n",
        "  div2, mod2 = divmod(div1,3)\n",
        "  if mod2 == 1:\n",
        "    num_list.append(N[0])\n",
        "  elif mod2 == 2:\n",
        "    num_list.append(N[1])\n",
        "  else:\n",
        "    num_list.append(N[2])\n",
        "  \n",
        "  div3, mod3 = divmod(div2,3)\n",
        "  if mod3 == 1:\n",
        "    num_list.append(N[0])\n",
        "  elif mod3 == 2:\n",
        "    num_list.append(N[1])\n",
        "  else:\n",
        "    num_list.append(N[2])\n",
        "  \n",
        "  num_list.reverse()\n",
        "  \n",
        "  return ''.join(num_list)"
      ],
      "execution_count": 0,
      "outputs": []
    },
    {
      "metadata": {
        "id": "01AIbxPxmVsJ",
        "colab_type": "code",
        "colab": {
          "base_uri": "https://localhost:8080/",
          "height": 34
        },
        "outputId": "f2633757-abfc-48fd-e03d-d2fa5b43bdbb"
      },
      "cell_type": "code",
      "source": [
        "solution(12)"
      ],
      "execution_count": 97,
      "outputs": [
        {
          "output_type": "execute_result",
          "data": {
            "text/plain": [
              "'114'"
            ]
          },
          "metadata": {
            "tags": []
          },
          "execution_count": 97
        }
      ]
    },
    {
      "metadata": {
        "id": "d3Rorbiw8LwJ",
        "colab_type": "text"
      },
      "cell_type": "markdown",
      "source": [
        "내 생각처럼 간단하게 풀리는 문제는 아니었던 것이었다..\n",
        "\n",
        "일단 파이썬의 아주 세세한 함수, 문법 등을 많이 숙지하지 못해서인지 if-else구문밖에 생각이 안났다.\n",
        "\n",
        "그리고 생각보다 다음 수를 구성하는 규칙이 너무 헷갈렸다.."
      ]
    },
    {
      "metadata": {
        "id": "Ltzn1KK5GnJI",
        "colab_type": "code",
        "colab": {}
      },
      "cell_type": "code",
      "source": [
        "def solution(n):\n",
        "  N = \"124\"  \n",
        "  num_list = []\n",
        "  div, mod = divmod(n,3)\n",
        "\n",
        "  if div == 0:\n",
        "    if mod == 1:\n",
        "      num_list.append(N[0])\n",
        "    elif mod == 2:\n",
        "      num_list.append(N[1])\n",
        "    else:\n",
        "      num_list.append(N[2])\n",
        "      \n",
        "  else:\n",
        "    while div > 0:\n",
        "      div, mod = divmod(div,3)\n",
        "  \n",
        "  num_list.reverse()\n",
        "  \n",
        "  return ''.join(num_list)"
      ],
      "execution_count": 0,
      "outputs": []
    },
    {
      "metadata": {
        "id": "gn40WwWbqdSQ",
        "colab_type": "code",
        "colab": {
          "base_uri": "https://localhost:8080/",
          "height": 34
        },
        "outputId": "a8668004-aeda-4d64-8564-0bf7a0198ee5"
      },
      "cell_type": "code",
      "source": [
        "solution(3)"
      ],
      "execution_count": 140,
      "outputs": [
        {
          "output_type": "execute_result",
          "data": {
            "text/plain": [
              "''"
            ]
          },
          "metadata": {
            "tags": []
          },
          "execution_count": 140
        }
      ]
    },
    {
      "metadata": {
        "id": "Our5Jirf9F57",
        "colab_type": "text"
      },
      "cell_type": "markdown",
      "source": [
        "어디에서 어떤 변수가 변경되는 지 찾아내려고 def 함수를 지우고 단계별로 변수가 어떻게 바뀌는 지 찍어 보았다.\n",
        "\n",
        "\n",
        "> While문은 조건식이 참인 동안만 반복문을 수행하는 루프이다.\n",
        "조건문이 거짓이 된다면, 루프를 빠져나간다.\n",
        "\n",
        "이것에 착안하여 여러 시도를 해보았는데, 이것 또한 쉽지 않았다😅\n",
        "\n",
        "그리고 나서 A4용지를 9쪽이나 썼다."
      ]
    },
    {
      "metadata": {
        "id": "EdJSyIooHC4-",
        "colab_type": "code",
        "colab": {}
      },
      "cell_type": "code",
      "source": [
        "N = \"124\"  \n",
        "num_list = []\n",
        "\n",
        "div, mod = divmod(15,3)\n",
        "\n",
        "while True:\n",
        "  \n",
        "  if div == 0:\n",
        "    if mod == 1:\n",
        "      num_list.append(N[0])\n",
        "    elif mod == 2:\n",
        "      num_list.append(N[1])\n",
        "    else:\n",
        "      num_list.append(N[2])\n",
        "    break\n",
        "    \n",
        "  else:\n",
        "    div, mod = divmod(div,3)\n",
        "\n",
        "num_list"
      ],
      "execution_count": 0,
      "outputs": []
    },
    {
      "metadata": {
        "id": "2ri9OZboK73L",
        "colab_type": "code",
        "colab": {
          "base_uri": "https://localhost:8080/",
          "height": 34
        },
        "outputId": "3a0bcbed-2464-46a2-abd0-1993e7449c59"
      },
      "cell_type": "code",
      "source": [
        "num_list"
      ],
      "execution_count": 169,
      "outputs": [
        {
          "output_type": "execute_result",
          "data": {
            "text/plain": [
              "['1']"
            ]
          },
          "metadata": {
            "tags": []
          },
          "execution_count": 169
        }
      ]
    },
    {
      "metadata": {
        "id": "gBCmEUdM-Na0",
        "colab_type": "text"
      },
      "cell_type": "markdown",
      "source": [
        "코드들을 좀 예쁘게 다듬으려고 N의 순서를 바꿨다.\n",
        "\n",
        "124 보다는 412로 했을 경우에, mod가 1, 2일 때 --> N[mod] 가 바로 숫자 1, 2를 가리켜서 좀 자연스럽다고 생각되었고 애초에 0을 대체한 수가 4였기 때문에 012 의 순서가 412가 되어야 한다고 생각했다.\n",
        "\n",
        "그랬더니 아주 조금 나아졌긴 했지만,...\n",
        "\n",
        "그 뒤로도 오랫동안 고민한 결과,  ~~컨닝~~ 레퍼런스를 참고하기로 했다. 다행히도 역시 나만 어려운게 아니었나보다😭\n",
        "\n",
        "역시 가장 큰 고민은 mod==0 인 경우를 어떻게 처리할 지 였다. 그치만 아무리해도, 끝자리 수 밖에 못맞춘다.... 왜일까 정말 모르겠다!\n",
        "\n"
      ]
    },
    {
      "metadata": {
        "id": "WuQMcg7lCZt7",
        "colab_type": "text"
      },
      "cell_type": "markdown",
      "source": [
        "내가 구현하고 싶었던 것:\n",
        "\n",
        "1. n의 div, mod를 구한다.\n",
        "\n",
        "2. mod가 0이라면, div를 1 낮춘다.\n",
        "\n",
        "3. n에 div를 넣는다.\n",
        "\n",
        "4. div가 0이 될 때 까지 1~3을 반복한다.\n",
        "\n",
        "| n      | div     | mod   | 124진수변환 | 결과 |\n",
        "| ------ | ------- | ----- | ----------- | ------- |\n",
        "| **10** | 3       | 1     | ☞ 1         |         |\n",
        "| 3      | 1       | **0** | ☞ 4         |         |\n",
        "|        |→ 0 |       |             |         |\n",
        "| 0 (X)  |         |       |             | **41**  |\n",
        "|        |         |       |             |         |\n",
        "| **13** | 4       | 1     | ☞ 1         |         |\n",
        "| 4      | 1       | 1     | ☞ 1         |         |\n",
        "| 1      | 0       | 1     | ☞ 1         |         |\n",
        "| 0 (X)  |         |       |             | **111** |\n",
        "|        |         |       |             |         |\n",
        "| **15** | 5       | **0** | ☞ 4         |         |\n",
        "|        |→ 4 |       |             |         |\n",
        "| 4      | 1       | 1     | ☞ 1         |         |\n",
        "| 1      | 0       | 1     | ☞ 1         |         |\n",
        "| 0 (X)  |         |       |             | **114** |\n",
        "|        |         |       |             |         |\n",
        "| **16** | 5       | 1     | ☞ 1         |         |\n",
        "| 5      | 1       | 2     | ☞ 2         |         |\n",
        "| 1      | 0       | 1     | ☞ 1         |         |\n",
        "| 0 (X)  |         |       |             | **121** |\n",
        "|        |         |       |             |         |\n",
        "|        |         |       |             |         |\n",
        "\n"
      ]
    },
    {
      "metadata": {
        "id": "JygozKm2LFue",
        "colab_type": "code",
        "colab": {}
      },
      "cell_type": "code",
      "source": [
        "def solution(n):\n",
        "  N = \"412\"\n",
        "  num_list = []\n",
        "  div, mod = divmod(n,3)\n",
        "  \n",
        "  while div > 0:\n",
        "\n",
        "    if mod == 0:\n",
        "      div -= 1\n",
        "      num_list.append(N[mod])\n",
        "    else:\n",
        "      num_list.append(N[mod])\n",
        "\n",
        "      div, mod = divmod(div,3)\n",
        "  \n",
        "  num_list.reverse()\n",
        "  return ''.join(num_list)"
      ],
      "execution_count": 0,
      "outputs": []
    },
    {
      "metadata": {
        "id": "u2W7thp_OSMU",
        "colab_type": "code",
        "colab": {
          "base_uri": "https://localhost:8080/",
          "height": 170
        },
        "outputId": "4e1189f3-dce2-475f-c72d-6b3d46b676a5"
      },
      "cell_type": "code",
      "source": [
        "# test\n",
        "print(solution(1))\n",
        "print(solution(2))\n",
        "print(solution(3))\n",
        "print(solution(4))\n",
        "print(solution(5))\n",
        "\n",
        "print(solution(8))\n",
        "print(solution(11))\n",
        "print(solution(13))\n",
        "print(solution(14))"
      ],
      "execution_count": 202,
      "outputs": [
        {
          "output_type": "stream",
          "text": [
            "\n",
            "\n",
            "4\n",
            "1\n",
            "2\n",
            "2\n",
            "42\n",
            "11\n",
            "12\n"
          ],
          "name": "stdout"
        }
      ]
    },
    {
      "metadata": {
        "id": "Kllp6y65BqPH",
        "colab_type": "text"
      },
      "cell_type": "markdown",
      "source": [
        "나름의 test코드까지 짜면서 열심히 해 보았지만, 내 코드는 왜 끝자리밖에 안나올까... 슬프게도 조금 더 레퍼런스를 찾아보았다. 검색하다보니, 내가 정말 머릿속 어딘가에서 내가 구현하고 싶었던 코드를 아주 간단하게 짜놓으신 것을 보았다. GG....(= God Google)\n",
        "\n",
        "[감사합니다](http://oneshottenkill.tistory.com/128)\n",
        "\n",
        "?!.....!!!!!!!\n",
        "\n",
        "역시.. 이 분야는 정말 배울게 너무 많다...ㅠㅠ 이렇게 배우다가는 인생 80년 살아도 모자랄 것 같다는 생각이 들었다.\n",
        "\n",
        "그래도 어떤 식으로 내가 고민했고, 점진적으로 코드를 고쳐나가면서, 알고리즘을 수정하고 많은 연습이 되었던 것 같다.\n",
        "\n",
        "앞으로 더 많이 풀어보고 연습하면 나아~~질 테니까!~~ 졌으면 좋겠다."
      ]
    },
    {
      "metadata": {
        "id": "JZUqCniPfX6o",
        "colab_type": "code",
        "colab": {
          "base_uri": "https://localhost:8080/",
          "height": 34
        },
        "outputId": "dd7cd37f-ab1c-44dd-b7a5-0072c0cbe2f2"
      },
      "cell_type": "code",
      "source": [
        "def change124(n):\n",
        "  \n",
        "    answer = \"\"\n",
        "    \n",
        "    i=0\n",
        "\n",
        "    while n>0:\n",
        "\n",
        "        i = n%3\n",
        "\n",
        "        n //= 3\n",
        "\n",
        "        if i==0:\n",
        "\n",
        "            n-=1\n",
        "\n",
        "        answer = '412'[i] + answer\n",
        "\n",
        "    return answer\n",
        "\n",
        "\n",
        "\n",
        "# 아래는 테스트로 출력해 보기 위한 코드입니다.\n",
        "\n",
        "print(change124(10))\n",
        "\n",
        "# 출처: http://oneshottenkill.tistory.com/128 [copyndpaste .cf]"
      ],
      "execution_count": 204,
      "outputs": [
        {
          "output_type": "stream",
          "text": [
            "41\n"
          ],
          "name": "stdout"
        }
      ]
    },
    {
      "metadata": {
        "id": "BbQ8qjwgLNPh",
        "colab_type": "code",
        "colab": {}
      },
      "cell_type": "code",
      "source": [
        ""
      ],
      "execution_count": 0,
      "outputs": []
    }
  ]
}
