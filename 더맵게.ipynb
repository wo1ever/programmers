{
 "cells": [
  {
   "cell_type": "markdown",
   "metadata": {},
   "source": [
    "# 더 맵게\n",
    "\n",
    "[링크](https://programmers.co.kr/learn/courses/30/lessons/42626?language=python3)\n",
    "\n",
    "매운 것을 좋아하는 Leo는 모든 음식의 스코빌 지수를 K 이상으로 만들고 싶습니다. 모든 음식의 스코빌 지수를 K 이상으로 만들기 위해 Leo는 스코빌 지수가 가장 낮은 두 개의 음식을 아래와 같이 특별한 방법으로 섞어 새로운 음식을 만듭니다.\n",
    "\n",
    "- 섞은 음식의 스코빌 지수 = 가장 맵지 않은 음식의 스코빌 지수 + (두 번째로 맵지 않은 음식의 스코빌 지수 * 2)\n",
    "- Leo는 모든 음식의 스코빌 지수가 K 이상이 될 때까지 반복하여 섞습니다.\n",
    "- Leo가 가진 음식의 스코빌 지수를 담은 배열 scoville과 원하는 스코빌 지수 K가 주어질 때, 모든 음식의 스코빌 지수를 K 이상으로 만들기 위해 섞어야 하는 최소 횟수를 return 하도록 solution 함수를 작성해주세요.\n",
    "\n",
    "\n",
    "\n",
    "### 제한 사항\n",
    "- scoville의 길이는 1 이상 1,000,000 이하입니다.\n",
    "- K는 0 이상 1,000,000,000 이하입니다.\n",
    "- scoville의 원소는 각각 0 이상 1,000,000 이하입니다.\n",
    "- 모든 음식의 스코빌 지수를 K 이상으로 만들 수 없는 경우에는 -1을 return 합니다.\n",
    "\n",
    "### 입출력 예\n",
    "| scoville             | K    | return |\n",
    "| -------------------- | ---- | ------ |\n",
    "| [1, 2, 3, 9, 10, 12] | 7    | 2      |\n",
    "\n",
    "### 입출력 예 설명\n",
    "스코빌 지수가 1인 음식과 2인 음식을 섞으면 음식의 스코빌 지수가 아래와 같이 됩니다.\n",
    "\n",
    "- 새로운 음식의 스코빌 지수 = 1 + (2 * 2) = 5\n",
    "- 가진 음식의 스코빌 지수 = [5, 3, 9, 10, 12]\n",
    "\n",
    "스코빌 지수가 3인 음식과 5인 음식을 섞으면 음식의 스코빌 지수가 아래와 같이 됩니다.\n",
    "\n",
    "- 새로운 음식의 스코빌 지수 = 3 + (5 * 2) = 13\n",
    "- 가진 음식의 스코빌 지수 = [13, 9, 10, 12]\n",
    "\n",
    "모든 음식의 스코빌 지수가 7 이상이 되었고 이때 섞은 횟수는 2회입니다."
   ]
  },
  {
   "cell_type": "markdown",
   "metadata": {},
   "source": [
    "# 의식의 흐름"
   ]
  },
  {
   "cell_type": "code",
   "execution_count": 2,
   "metadata": {},
   "outputs": [],
   "source": [
    "def solution(scoville, K):\n",
    "    answer = 0\n",
    "    return answer"
   ]
  },
  {
   "cell_type": "markdown",
   "metadata": {},
   "source": [
    "역시나 일단 종이에 끄적여봤다.\n",
    "\n",
    "결과는 \"횟수\"를 리턴한다. 몇 번을 반복했는 지를 알아야 한다. 일단 for문을 돌며 answer를 하나씩 높여 주어야 할 것 같다.\n",
    "그 중에서도 조금 눈에 띄는 조건은 : 모두 K 이상으로 만들 수 없을 때, -1을 리턴한다는 것이었다. 어느 경우에 그렇게 될까 생각해봤다. 먼저 식을 세우고 시작해 봐야겠다.\n",
    "\n",
    "횟수는 조금 나중에 구하고, 일단 모든 원소가 K 이상인 리스트가 되게 만드는 것부터 시작해 봐야지...!"
   ]
  },
  {
   "cell_type": "code",
   "execution_count": 75,
   "metadata": {},
   "outputs": [
    {
     "name": "stdout",
     "output_type": "stream",
     "text": [
      "original [4, 3, 2, 3, 2]\n",
      "sorted [2, 2, 3, 3, 4]\n",
      "iteration 1 [3, 3, 4, 6]\n",
      "iteration 2 [4, 6, 9]\n",
      "iteration 3 [9, 16]\n"
     ]
    }
   ],
   "source": [
    "scoville = [4, 3, 2, 3, 2]\n",
    "K = 7\n",
    "\n",
    "print(\"original\", scoville)\n",
    "\n",
    "scoville.sort()\n",
    "print(\"sorted\", scoville)\n",
    "scoville.append(scoville.pop(0) + scoville.pop(0)*2)\n",
    "print(\"iteration 1\", scoville)\n",
    "\n",
    "scoville.sort()\n",
    "scoville.append(scoville.pop(0) + scoville.pop(0)*2)\n",
    "print(\"iteration 2\", scoville)\n",
    "\n",
    "scoville.sort()\n",
    "scoville.append(scoville.pop(0) + scoville.pop(0)*2)\n",
    "print(\"iteration 3\", scoville)"
   ]
  },
  {
   "cell_type": "code",
   "execution_count": 147,
   "metadata": {},
   "outputs": [
    {
     "name": "stdout",
     "output_type": "stream",
     "text": [
      "iteration 1 [3, 3, 4, 6]\n",
      "iteration 2 [4, 6, 9]\n",
      "iteration 3 [9, 16]\n",
      "iteration 4 [41]\n",
      "4 [41]\n"
     ]
    }
   ],
   "source": [
    "scoville = [4, 3, 2, 3, 2]\n",
    "K = 30\n",
    "    \n",
    "scoville.sort()\n",
    "i=0\n",
    "while scoville[0] < K:\n",
    "    \n",
    "    if scoville[0] > K:\n",
    "        pass\n",
    "    \n",
    "    else:\n",
    "        i += 1\n",
    "        scovile.append(scoville.pop(0) + scoville.pop(0)*2)\n",
    "        print(\"iteration\",i, scoville)\n",
    "\n",
    "print(i,scoville)"
   ]
  },
  {
   "cell_type": "code",
   "execution_count": 224,
   "metadata": {},
   "outputs": [],
   "source": [
    "def solution(scoville, K):\n",
    "\n",
    "    scoville.sort()\n",
    "    \n",
    "    i=0\n",
    "\n",
    "    while scoville[0] < K:\n",
    "        \n",
    "        if scoville[0] > K: pass\n",
    "        \n",
    "        else:\n",
    "            i += 1\n",
    "            scoville.sort()\n",
    "            scoville.append(scoville.pop(0) + scoville.pop(0)*2)\n",
    "            scoville.sort()\n",
    "    return i"
   ]
  },
  {
   "cell_type": "code",
   "execution_count": 225,
   "metadata": {},
   "outputs": [
    {
     "data": {
      "text/plain": [
       "3"
      ]
     },
     "execution_count": 225,
     "metadata": {},
     "output_type": "execute_result"
    }
   ],
   "source": [
    "solution([4, 3, 2, 3, 2],7)"
   ]
  },
  {
   "cell_type": "code",
   "execution_count": 226,
   "metadata": {},
   "outputs": [
    {
     "ename": "IndexError",
     "evalue": "pop from empty list",
     "output_type": "error",
     "traceback": [
      "\u001b[0;31m---------------------------------------------------------------------------\u001b[0m",
      "\u001b[0;31mIndexError\u001b[0m                                Traceback (most recent call last)",
      "\u001b[0;32m<ipython-input-226-40333a0617f6>\u001b[0m in \u001b[0;36m<module>\u001b[0;34m()\u001b[0m\n\u001b[0;32m----> 1\u001b[0;31m \u001b[0msolution\u001b[0m\u001b[0;34m(\u001b[0m\u001b[0;34m[\u001b[0m\u001b[0;36m4\u001b[0m\u001b[0;34m,\u001b[0m\u001b[0;36m3\u001b[0m\u001b[0;34m,\u001b[0m\u001b[0;36m2\u001b[0m\u001b[0;34m,\u001b[0m\u001b[0;36m3\u001b[0m\u001b[0;34m,\u001b[0m\u001b[0;36m2\u001b[0m\u001b[0;34m]\u001b[0m\u001b[0;34m,\u001b[0m \u001b[0;36m50\u001b[0m\u001b[0;34m)\u001b[0m\u001b[0;34m\u001b[0m\u001b[0m\n\u001b[0m",
      "\u001b[0;32m<ipython-input-224-53cc1cd5c752>\u001b[0m in \u001b[0;36msolution\u001b[0;34m(scovile, K)\u001b[0m\n\u001b[1;32m     12\u001b[0m             \u001b[0mi\u001b[0m \u001b[0;34m+=\u001b[0m \u001b[0;36m1\u001b[0m\u001b[0;34m\u001b[0m\u001b[0m\n\u001b[1;32m     13\u001b[0m             \u001b[0mscovile\u001b[0m\u001b[0;34m.\u001b[0m\u001b[0msort\u001b[0m\u001b[0;34m(\u001b[0m\u001b[0;34m)\u001b[0m\u001b[0;34m\u001b[0m\u001b[0m\n\u001b[0;32m---> 14\u001b[0;31m             \u001b[0mscovile\u001b[0m\u001b[0;34m.\u001b[0m\u001b[0mappend\u001b[0m\u001b[0;34m(\u001b[0m\u001b[0mscovile\u001b[0m\u001b[0;34m.\u001b[0m\u001b[0mpop\u001b[0m\u001b[0;34m(\u001b[0m\u001b[0;36m0\u001b[0m\u001b[0;34m)\u001b[0m \u001b[0;34m+\u001b[0m \u001b[0mscovile\u001b[0m\u001b[0;34m.\u001b[0m\u001b[0mpop\u001b[0m\u001b[0;34m(\u001b[0m\u001b[0;36m0\u001b[0m\u001b[0;34m)\u001b[0m\u001b[0;34m*\u001b[0m\u001b[0;36m2\u001b[0m\u001b[0;34m)\u001b[0m\u001b[0;34m\u001b[0m\u001b[0m\n\u001b[0m\u001b[1;32m     15\u001b[0m             \u001b[0mscovile\u001b[0m\u001b[0;34m.\u001b[0m\u001b[0msort\u001b[0m\u001b[0;34m(\u001b[0m\u001b[0;34m)\u001b[0m\u001b[0;34m\u001b[0m\u001b[0m\n\u001b[1;32m     16\u001b[0m     \u001b[0;32mreturn\u001b[0m \u001b[0mi\u001b[0m\u001b[0;34m\u001b[0m\u001b[0m\n",
      "\u001b[0;31mIndexError\u001b[0m: pop from empty list"
     ]
    }
   ],
   "source": [
    "solution([4,3,2,3,2], 50)"
   ]
  },
  {
   "cell_type": "markdown",
   "metadata": {},
   "source": [
    "오오 뭔가 된 것 같은데,,,! 맞는 지는 잘 모르겠지만\n",
    "\n",
    "다음 조건은 K 이상으로 만들 수 없는 경우, -1을 리턴한다는 것만 해결하면 될 것 같다!"
   ]
  },
  {
   "cell_type": "code",
   "execution_count": 276,
   "metadata": {},
   "outputs": [
    {
     "name": "stdout",
     "output_type": "stream",
     "text": [
      "iteration 1 [3, 3, 4, 6]\n",
      "iteration 2 [4, 6, 9]\n",
      "iteration 3 [9, 16]\n",
      "3 [9, 16]\n"
     ]
    }
   ],
   "source": [
    "scoville = [4, 3, 2, 3, 2]\n",
    "K = 5\n",
    "    \n",
    "scoville.sort()\n",
    "i=0\n",
    "while scoville[0] < K:\n",
    "\n",
    "    if scoville[0] > K:\n",
    "        pass\n",
    "    \n",
    "    else:\n",
    "        i += 1\n",
    "        scoville.append(scoville.pop(0) + scoville.pop(0)*2)\n",
    "        print(\"iteration\",i, scoville)\n",
    "\n",
    "print(i,scoville)"
   ]
  },
  {
   "cell_type": "code",
   "execution_count": 229,
   "metadata": {},
   "outputs": [],
   "source": [
    "def solution(scoville, K):\n",
    "\n",
    "    scoville.sort()\n",
    "    \n",
    "    i=0\n",
    "\n",
    "    while scoville[0] < K:\n",
    "        \n",
    "        if scoville[0] > K: pass\n",
    "        \n",
    "        else:\n",
    "            if len(scoville) < 2: return -1\n",
    "            i += 1\n",
    "            scoville.append(scoville.pop(0) + scoville.pop(0)*2)\n",
    "\n",
    "    return i"
   ]
  },
  {
   "cell_type": "code",
   "execution_count": 230,
   "metadata": {},
   "outputs": [
    {
     "data": {
      "text/plain": [
       "-1"
      ]
     },
     "execution_count": 230,
     "metadata": {},
     "output_type": "execute_result"
    }
   ],
   "source": [
    "solution([4, 3, 2, 3, 2], 50)"
   ]
  },
  {
   "cell_type": "markdown",
   "metadata": {},
   "source": [
    "한 줄 추가해 봤는데 무언가 되긴 된다.\n",
    "제출해보니 정확성은 52%, 효율성은 0%(시간초과) 라고 나온다.. 너무 슬프지만 test를 추가해서 다시 생각해 보아야겠다.\n",
    "\n",
    "scovile list의 길이가 0이 되고, 그 하나의 값이 K보다 작다면, -1을 리턴하도록 했어야 했는데, 한 칸 남았을 때의 조건만 넣어주어서 그랬나보다..!"
   ]
  },
  {
   "cell_type": "code",
   "execution_count": 209,
   "metadata": {},
   "outputs": [],
   "source": [
    "def solution(scoville, K):\n",
    "\n",
    "    scoville.sort()\n",
    "    \n",
    "    i=0\n",
    "\n",
    "    while scoville[0] < K:\n",
    "        if (len(scoville) < 2) & (scoville[0] < K): return -1\n",
    "        if scoville[0] <= K :\n",
    "            i += 1\n",
    "            scoville.append(scoville.pop(0) + scoville.pop(0)*2)\n",
    "    return i"
   ]
  },
  {
   "cell_type": "code",
   "execution_count": 210,
   "metadata": {},
   "outputs": [
    {
     "data": {
      "text/plain": [
       "4"
      ]
     },
     "execution_count": 210,
     "metadata": {},
     "output_type": "execute_result"
    }
   ],
   "source": [
    "solution([4, 3, 2, 3, 2], 30)"
   ]
  },
  {
   "cell_type": "markdown",
   "metadata": {},
   "source": [
    "나름 조건문을 추가해 봤지만 결과는 똑같았다. 오늘은 여기까지 하고 스터디원들에게 물어봐야겠다."
   ]
  },
  {
   "cell_type": "code",
   "execution_count": 295,
   "metadata": {},
   "outputs": [],
   "source": [
    "def solution1(scoville, K):\n",
    "\n",
    "    scoville.sort()\n",
    "    i=0\n",
    "    while scoville[0] < K:\n",
    "        scoville.sort()\n",
    "        if (len(scoville) < 2) & (scoville[0] < K): return -1\n",
    "        if scoville[0] < K :\n",
    "            i += 1\n",
    "            scoville.append(scoville.pop(0) + scoville.pop(0)*2)\n",
    "    return i"
   ]
  },
  {
   "cell_type": "code",
   "execution_count": 296,
   "metadata": {},
   "outputs": [
    {
     "name": "stdout",
     "output_type": "stream",
     "text": [
      "CPU times: user 19 µs, sys: 1e+03 ns, total: 20 µs\n",
      "Wall time: 25.3 µs\n"
     ]
    },
    {
     "data": {
      "text/plain": [
       "-1"
      ]
     },
     "execution_count": 296,
     "metadata": {},
     "output_type": "execute_result"
    }
   ],
   "source": [
    "% time solution1([4, 3, 2, 3, 2], 50)"
   ]
  },
  {
   "cell_type": "markdown",
   "metadata": {},
   "source": [
    "역시 스터디원들에게 물어본 후, 코드의 오류를 찾아냈다! while문을 돌면서, 가장 작은 scoville[0] 을 찾아, 계산을 해 주어야 했는데, 내 코드에서는 scoville을 계산 한 뒤 다시 sort를 안 해주어서 한 줄 추가해주니 바로 해결되었다. 허허\n",
    "\n",
    "실행 결과 test는 모두 통과하였지만, 효율성에서 다틀려서 다른 사람의 풀이는 볼 수 없었다고 한다.......ㅠㅠ\n",
    "\n",
    "이제 효율성을 높이는 방법을 생각해 보아야겠다."
   ]
  },
  {
   "cell_type": "code",
   "execution_count": 297,
   "metadata": {},
   "outputs": [],
   "source": [
    "def solution2(scoville, K):\n",
    "    i=0\n",
    "    while min(scoville) < K:\n",
    "        if (len(scoville) < 2) & (min(scoville) < K): return -1\n",
    "        if min(scoville) < K :\n",
    "            i += 1\n",
    "            scoville.sort()\n",
    "            scoville.append(scoville.pop(0) + scoville.pop(0)*2)\n",
    "    return i"
   ]
  },
  {
   "cell_type": "code",
   "execution_count": 332,
   "metadata": {},
   "outputs": [
    {
     "name": "stdout",
     "output_type": "stream",
     "text": [
      "CPU times: user 17 µs, sys: 1 µs, total: 18 µs\n",
      "Wall time: 21.7 µs\n"
     ]
    },
    {
     "data": {
      "text/plain": [
       "4"
      ]
     },
     "execution_count": 332,
     "metadata": {},
     "output_type": "execute_result"
    }
   ],
   "source": [
    "% time solution2([20,40,32,11,2,5], 70)"
   ]
  },
  {
   "cell_type": "code",
   "execution_count": 333,
   "metadata": {},
   "outputs": [
    {
     "name": "stdout",
     "output_type": "stream",
     "text": [
      "CPU times: user 17 µs, sys: 1e+03 ns, total: 18 µs\n",
      "Wall time: 22.9 µs\n"
     ]
    },
    {
     "data": {
      "text/plain": [
       "4"
      ]
     },
     "execution_count": 333,
     "metadata": {},
     "output_type": "execute_result"
    }
   ],
   "source": [
    "% time solution1([20,40,32,11,2,5], 70)"
   ]
  },
  {
   "cell_type": "code",
   "execution_count": null,
   "metadata": {},
   "outputs": [],
   "source": []
  }
 ],
 "metadata": {
  "kernelspec": {
   "display_name": "Python 3",
   "language": "python",
   "name": "python3"
  },
  "language_info": {
   "codemirror_mode": {
    "name": "ipython",
    "version": 3
   },
   "file_extension": ".py",
   "mimetype": "text/x-python",
   "name": "python",
   "nbconvert_exporter": "python",
   "pygments_lexer": "ipython3",
   "version": "3.6.5"
  }
 },
 "nbformat": 4,
 "nbformat_minor": 2
}
