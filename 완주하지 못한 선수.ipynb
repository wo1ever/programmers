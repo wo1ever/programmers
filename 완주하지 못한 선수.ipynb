{
 "cells": [
  {
   "cell_type": "markdown",
   "metadata": {},
   "source": [
    "# 완주하지 못한 선수\n",
    "\n",
    "[문제링크](https://programmers.co.kr/learn/courses/30/lessons/42576?language=python3)\n",
    "\n",
    "수많은 마라톤 선수들이 마라톤에 참여하였습니다. 단 한 명의 선수를 제외하고는 모든 선수가 마라톤을 완주하였습니다.\n",
    "\n",
    "마라톤에 참여한 선수들의 이름이 담긴 배열 participant와 완주한 선수들의 이름이 담긴 배열 completion이 주어질 때, 완주하지 못한 선수의 이름을 return 하도록 solution 함수를 작성해주세요.\n",
    "\n",
    "### 제한사항\n",
    "\n",
    "- 마라톤 경기에 참여한 선수의 수는 1명 이상 100,000명 이하입니다.\n",
    "- completion의 길이는 participant의 길이보다 1 작습니다.\n",
    "- 참가자의 이름은 1개 이상 20개 이하의 알파벳 소문자로 이루어져 있습니다.\n",
    "- 참가자 중에는 동명이인이 있을 수 있습니다.\n",
    "\n",
    "### 입출력 예\n",
    "\n",
    "| participant                             | completion                       | return |\n",
    "| --------------------------------------- | -------------------------------- | ------ |\n",
    "| [leo, kiki, eden]                       | [eden, kiki]                     | leo    |\n",
    "| [marina, josipa, nikola, vinko, filipa] | [josipa, filipa, marina, nikola] | vinko  |\n",
    "| [mislav, stanko, mislav, ana]           | [stanko, ana, mislav]            | mislav |\n",
    "\n",
    "### 입출력 예 설명\n",
    "\n",
    "#### 예제 #1\n",
    "leo는 참여자 명단에는 있지만, 완주자 명단에는 없기 때문에 완주하지 못했습니다.\n",
    "\n",
    "#### 예제 #2\n",
    "vinko는 참여자 명단에는 있지만, 완주자 명단에는 없기 때문에 완주하지 못했습니다.\n",
    "\n",
    "#### 예제 #3\n",
    "mislav는 참여자 명단에는 두 명이 있지만, 완주자 명단에는 한 명밖에 없기 때문에 한명은 완주하지 못했습니다.\n",
    "\n",
    "[출처](http://hsin.hr/coci/archive/2014_2015/contest2_tasks.pdf)"
   ]
  },
  {
   "cell_type": "code",
   "execution_count": 1,
   "metadata": {},
   "outputs": [],
   "source": [
    "def solution(participant, completion):\n",
    "    answer = ''\n",
    "    return answer"
   ]
  },
  {
   "cell_type": "code",
   "execution_count": 128,
   "metadata": {},
   "outputs": [],
   "source": [
    "# test case\n",
    "\n",
    "p1 = [\"a\", \"b\", \"c\", \"d\"]\n",
    "c1 = [\"b\", \"a\", \"d\"]\n",
    "# answer = \"c\"\n",
    "\n",
    "p2 = [\"e\", \"f\", \"f\", \"h\"]\n",
    "c2 = [\"f\", \"e\", \"h\"]\n",
    "# answer = \"f\""
   ]
  },
  {
   "cell_type": "code",
   "execution_count": 85,
   "metadata": {},
   "outputs": [
    {
     "data": {
      "text/plain": [
       "'a'"
      ]
     },
     "execution_count": 85,
     "metadata": {},
     "output_type": "execute_result"
    }
   ],
   "source": [
    "p1[0]"
   ]
  },
  {
   "cell_type": "code",
   "execution_count": 86,
   "metadata": {},
   "outputs": [
    {
     "data": {
      "text/plain": [
       "0"
      ]
     },
     "execution_count": 86,
     "metadata": {},
     "output_type": "execute_result"
    }
   ],
   "source": [
    "p1.index(\"a\")"
   ]
  },
  {
   "cell_type": "code",
   "execution_count": 87,
   "metadata": {},
   "outputs": [
    {
     "data": {
      "text/plain": [
       "0"
      ]
     },
     "execution_count": 87,
     "metadata": {},
     "output_type": "execute_result"
    }
   ],
   "source": [
    "p1.index(p1[0])"
   ]
  },
  {
   "cell_type": "code",
   "execution_count": 99,
   "metadata": {},
   "outputs": [],
   "source": [
    "def running(p,c):\n",
    "    for i in p:\n",
    "        if i not in c:\n",
    "            return str(i)"
   ]
  },
  {
   "cell_type": "code",
   "execution_count": 100,
   "metadata": {},
   "outputs": [
    {
     "data": {
      "text/plain": [
       "'c'"
      ]
     },
     "execution_count": 100,
     "metadata": {},
     "output_type": "execute_result"
    }
   ],
   "source": [
    "running(p1,c1)"
   ]
  },
  {
   "cell_type": "code",
   "execution_count": 101,
   "metadata": {},
   "outputs": [],
   "source": [
    "running(p2,c2)"
   ]
  },
  {
   "cell_type": "markdown",
   "metadata": {},
   "source": [
    "동명이인의 조건을 넣어주어야 한다."
   ]
  },
  {
   "cell_type": "code",
   "execution_count": 90,
   "metadata": {},
   "outputs": [],
   "source": [
    "def running(p,c):\n",
    "    for i in c:\n",
    "        if i in p:\n",
    "            p.remove(i)\n",
    "    return p[0]"
   ]
  },
  {
   "cell_type": "code",
   "execution_count": 91,
   "metadata": {},
   "outputs": [
    {
     "data": {
      "text/plain": [
       "'c'"
      ]
     },
     "execution_count": 91,
     "metadata": {},
     "output_type": "execute_result"
    }
   ],
   "source": [
    "running(p1,c1)"
   ]
  },
  {
   "cell_type": "code",
   "execution_count": 92,
   "metadata": {},
   "outputs": [
    {
     "data": {
      "text/plain": [
       "'f'"
      ]
     },
     "execution_count": 92,
     "metadata": {},
     "output_type": "execute_result"
    }
   ],
   "source": [
    "running(p2,c2)"
   ]
  },
  {
   "cell_type": "markdown",
   "metadata": {},
   "source": [
    "문제 자체는 간단해서 금방 풀었지만, 정확성 5문제 + 효율성(시간) 5문제 중 효율성이 0점이 나왔다. 아무래도 숫자나 문자의 길이제한이 있는 이유는, 채점 시 굉장히 긴 문자열이나 인풋값을 넣어서 그 시간을 측정하는 것 같다.\n",
    "\n",
    "이 문제도 어떻게 효율화 시킬 수 있을 지 더 고민하고 찾아보아야겠다.😭 저번 [더맵게](https://github.com/wo1ever/programmers/blob/master/%EB%8D%94%EB%A7%B5%EA%B2%8C.ipynb) 문제도 아직 못풀었는데 한 주가 눈 깜빡할 새에 지나가버렸다."
   ]
  },
  {
   "cell_type": "markdown",
   "metadata": {},
   "source": [
    "### 효율성을 위한 고민"
   ]
  },
  {
   "cell_type": "code",
   "execution_count": 161,
   "metadata": {},
   "outputs": [
    {
     "data": {
      "text/plain": [
       "[1, 3]"
      ]
     },
     "execution_count": 161,
     "metadata": {},
     "output_type": "execute_result"
    }
   ],
   "source": [
    "[i for i,x in enumerate([1,2,3,2]) if x==2] # => [1, 3]"
   ]
  },
  {
   "cell_type": "markdown",
   "metadata": {},
   "source": [
    "위의 코딩은, 리스트 중 x값이 2인 인덱스를 반환한다.\n",
    "> **enumerate()** : 순서가 있는 자료형(리스트, 튜플, 문자열)을 입력값으로 받아, 해당하는 값과 인덱스를 리턴\n",
    "\n",
    "이 문제에 적용시킬 수 있지 않을까"
   ]
  },
  {
   "cell_type": "code",
   "execution_count": 162,
   "metadata": {},
   "outputs": [
    {
     "name": "stdout",
     "output_type": "stream",
     "text": [
      "0 body\n",
      "1 foo\n",
      "2 bar\n"
     ]
    }
   ],
   "source": [
    "for i, name in enumerate(['body', 'foo', 'bar']):\n",
    "    print(i, name)"
   ]
  },
  {
   "cell_type": "markdown",
   "metadata": {},
   "source": [
    "순서값과 함께 값도 반환되었다. for문처럼 반복되는 구간에서 객체가 현재 어느 위치에 있는 지 알려주는 인덱스 값이 필요할 때 사용하면 매우 유용하다 고 [여기](https://wikidocs.net/32)에 적혀있다."
   ]
  },
  {
   "cell_type": "code",
   "execution_count": 180,
   "metadata": {},
   "outputs": [],
   "source": [
    "def running(p,c):\n",
    "    for i, name in enumerate(p):\n",
    "        index = []\n",
    "        if name not in c:\n",
    "            return name"
   ]
  },
  {
   "cell_type": "code",
   "execution_count": 181,
   "metadata": {},
   "outputs": [
    {
     "data": {
      "text/plain": [
       "'c'"
      ]
     },
     "execution_count": 181,
     "metadata": {},
     "output_type": "execute_result"
    }
   ],
   "source": [
    "running(p1,c1)"
   ]
  },
  {
   "cell_type": "code",
   "execution_count": 179,
   "metadata": {},
   "outputs": [],
   "source": [
    "running(p2,c2)"
   ]
  },
  {
   "cell_type": "markdown",
   "metadata": {},
   "source": [
    "아무래도 리스트를 돌면서 하나 씩 값을 확인해 보는 방법은 그렇게 효율적이지 않아 보인다.  \n",
    "그리고 지금 문제는 '동명이인'을 어떻게 처리할 것인가가 문제이다.\n",
    "\n",
    "이것 저것 생각해보다 보니 조금 다른 방법이 생각났다.\n",
    "\n",
    "> participant = \\[\"a\", \"a\", \"b\", \"b\", \"c\"\\]  \n",
    "> completion = \\[\"a\", \"c\",\"b\", \"a\"\\]  \n",
    "> 일 때, participant의 이름 별 사람 수 중에서 completion의 사람수를 빼면 무조건 한 명의 사람이 남을 것이다. 각 알파벳을 count 하면, 다음과 같고  \n",
    ">\n",
    "> | participant  | completion   |\n",
    "| ------------ | ------------ |\n",
    "| count(a) = 2 | count(a) = 1 |\n",
    "| count(b) = 3 | count(b) = 3 |\n",
    "| count(c) = 1 | count(c) = 1 |  \n",
    "> 여기에서 각 숫자를 빼주게 되면 당연히  \n",
    ">\n",
    "> | participant  | completion   | subtract |\n",
    "| ------------ | ------------ | -------- |\n",
    "| count(a) = 2 | count(a) = 1 | 1        |\n",
    "| count(b) = 3 | count(b) = 3 | 0        |\n",
    "| count(c) = 1 | count(c) = 1 | 0        |\n",
    ">\n",
    "> 여기에서 무조건 한 명이 차이가 나니, count를 뺀 값이 1인 a를 반환하면 되는 것이다.\n",
    "\n",
    "그리고 count를 할 수 있는 방법을 찾아보았다."
   ]
  },
  {
   "cell_type": "markdown",
   "metadata": {},
   "source": [
    "이래 저래 검색 중 알게 된 라이브러리인 **collections**  \n",
    "리스트 내의 여러 값들의 빈도를 세어 준다고 한다.  \n",
    "답글을 살펴 보니, 리스트의 길이가 긴 경우에 for문으로 세는 것 보다 더 빠르다고 적혀있는 것을 보았다. 바로 사용해 본다.\n",
    "> https://stackoverflow.com/questions/2600191/how-to-count-the-occurrences-of-a-list-item\n"
   ]
  },
  {
   "cell_type": "code",
   "execution_count": 209,
   "metadata": {},
   "outputs": [],
   "source": [
    "from collections import Counter"
   ]
  },
  {
   "cell_type": "code",
   "execution_count": 220,
   "metadata": {},
   "outputs": [],
   "source": [
    "p3 = [\"a\", \"a\", \"b\", \"b\", \"c\"]\n",
    "c3 = [\"a\", \"c\",\"b\", \"a\"]"
   ]
  },
  {
   "cell_type": "code",
   "execution_count": 221,
   "metadata": {},
   "outputs": [
    {
     "data": {
      "text/plain": [
       "Counter({'a': 2, 'b': 2, 'c': 1})"
      ]
     },
     "execution_count": 221,
     "metadata": {},
     "output_type": "execute_result"
    }
   ],
   "source": [
    "Counter(p3)"
   ]
  },
  {
   "cell_type": "markdown",
   "metadata": {},
   "source": [
    "### 대박사건..\n",
    "자세한 로직은 들어가서 확인해 보아야 알겠지만, 일단 사용하기는 너무 편하다."
   ]
  },
  {
   "cell_type": "code",
   "execution_count": 222,
   "metadata": {},
   "outputs": [
    {
     "data": {
      "text/plain": [
       "Counter({'b': 1})"
      ]
     },
     "execution_count": 222,
     "metadata": {},
     "output_type": "execute_result"
    }
   ],
   "source": [
    "Counter(p3) - Counter(c3)"
   ]
  },
  {
   "cell_type": "markdown",
   "metadata": {},
   "source": [
    "궁금해서 빼봤는데 심지어 뺄셈도 된다.... (결과값 나와서 정말정말 놀람)  \n",
    "덕분에 내 함수는 단 두 줄로 다시 정의될 수 있었다."
   ]
  },
  {
   "cell_type": "code",
   "execution_count": 225,
   "metadata": {},
   "outputs": [],
   "source": [
    "def running(p,c):\n",
    "    return list(Counter(p) - Counter(c))[0]"
   ]
  },
  {
   "cell_type": "code",
   "execution_count": 226,
   "metadata": {},
   "outputs": [
    {
     "data": {
      "text/plain": [
       "'c'"
      ]
     },
     "execution_count": 226,
     "metadata": {},
     "output_type": "execute_result"
    }
   ],
   "source": [
    "running(p1,c1)"
   ]
  },
  {
   "cell_type": "code",
   "execution_count": 227,
   "metadata": {},
   "outputs": [
    {
     "data": {
      "text/plain": [
       "'f'"
      ]
     },
     "execution_count": 227,
     "metadata": {},
     "output_type": "execute_result"
    }
   ],
   "source": [
    "running(p2,c2)"
   ]
  },
  {
   "cell_type": "code",
   "execution_count": 228,
   "metadata": {},
   "outputs": [
    {
     "data": {
      "text/plain": [
       "'b'"
      ]
     },
     "execution_count": 228,
     "metadata": {},
     "output_type": "execute_result"
    }
   ],
   "source": [
    "running(p3,c3)"
   ]
  },
  {
   "cell_type": "markdown",
   "metadata": {},
   "source": [
    "(내가만든) 모든 테스트케이스도 통과했다. 바로 채점해보아야겠다. 두근!"
   ]
  },
  {
   "cell_type": "markdown",
   "metadata": {},
   "source": [
    "#### 100점으로 성공했다!!!!\n",
    "예에\\~\\~\\~🤟🤟🤟🤟🤟🤟  \n",
    "어렴풋이 쌤들의 말씀이 생각이 난다.  \n",
    "> \"우리는 본인 스스로의 힘으로 알아낸 것을 가장 잘 기억합니다.\"\n",
    "\n",
    "짝짝짝  \n",
    "다음 문제는 딱 봐도 어려워 보이는 \"멀리뛰기\"...! 오늘까지 생각해보고 자야겠다."
   ]
  },
  {
   "cell_type": "markdown",
   "metadata": {},
   "source": [
    "(+소소한 tmi)  \n",
    "깃헙에 커밋을 하려고 메세지를 \"효율성 테스트도 통과!\" 라고 치니, dquote라는 문구가 계속 쳐져서 [찾아보니](https://stackoverflow.com/questions/5131948/use-of-an-exclamation-mark-in-a-git-commit-message-via-command-line),  \n",
    "커밋 메세지에 느낌표를 적고 싶을 때에는 ! 문자 뒤에 공백을 두 번 쳐 주어야 한다고 한다."
   ]
  },
  {
   "cell_type": "code",
   "execution_count": null,
   "metadata": {},
   "outputs": [],
   "source": []
  }
 ],
 "metadata": {
  "kernelspec": {
   "display_name": "Python 3",
   "language": "python",
   "name": "python3"
  },
  "language_info": {
   "codemirror_mode": {
    "name": "ipython",
    "version": 3
   },
   "file_extension": ".py",
   "mimetype": "text/x-python",
   "name": "python",
   "nbconvert_exporter": "python",
   "pygments_lexer": "ipython3",
   "version": "3.6.5"
  }
 },
 "nbformat": 4,
 "nbformat_minor": 2
}
