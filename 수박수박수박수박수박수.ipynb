{
 "cells": [
  {
   "cell_type": "markdown",
   "metadata": {
    "colab_type": "text",
    "id": "fC2CapdKBN3a"
   },
   "source": [
    "# 수박수박수박수박수박수?\n",
    "\n",
    "[문제링크](https://programmers.co.kr/learn/courses/30/lessons/12922?language=python3)\n",
    "\n",
    "### 문제 설명\n",
    "\n",
    "길이가 n이고, 수박수박수박수....와 같은 패턴을 유지하는 문자열을 리턴하는 함수, solution을 완성하세요. 예를들어 n이 4이면 수박수박을 리턴하고 3이라면 수박수를 리턴하면 됩니다.\n",
    "\n",
    "### 제한 조건\n",
    "\n",
    "- n은 길이 10,000이하인 자연수입니다.\n",
    "\n",
    "### 입출력 예\n",
    "\n",
    "| n    | return     |\n",
    "| ---- | ---------- |\n",
    "| 3    | \"수박수\"   |\n",
    "| 4    | \"수박수박\" |\n"
   ]
  },
  {
   "cell_type": "code",
   "execution_count": 2,
   "metadata": {
    "colab": {},
    "colab_type": "code",
    "id": "kH4A3kCHBVnK"
   },
   "outputs": [],
   "source": [
    "# 1번 타입\n",
    "def solution01(n):\n",
    "    answer = ''\n",
    "\n",
    "    m = n // 2\n",
    "    answer += '수박' * m\n",
    "\n",
    "    if n % 2 == 1:\n",
    "        answer += '수'\n",
    "  \n",
    "    return answer"
   ]
  },
  {
   "cell_type": "code",
   "execution_count": 3,
   "metadata": {
    "colab": {
     "base_uri": "https://localhost:8080/",
     "height": 197
    },
    "colab_type": "code",
    "id": "iGv4Ywy-DAco",
    "outputId": "ba80894e-1f1b-4421-f701-abfe140cfef7"
   },
   "outputs": [
    {
     "name": "stdout",
     "output_type": "stream",
     "text": [
      "수\n",
      "수박\n",
      "수박수\n",
      "수박수박\n",
      "수박수박수\n",
      "수박수박수박\n",
      "수박수박수박수\n",
      "수박수박수박수박\n",
      "수박수박수박수박수\n",
      "수박수박수박수박수박\n"
     ]
    }
   ],
   "source": [
    "for i in range(1,11):\n",
    "    print(solution01(i))"
   ]
  },
  {
   "cell_type": "code",
   "execution_count": 4,
   "metadata": {
    "colab": {},
    "colab_type": "code",
    "id": "wco5B0tPBZYr"
   },
   "outputs": [],
   "source": [
    "# 2번 타입\n",
    "def solution02(n):\n",
    "    answer = ''\n",
    "    \n",
    "    for i in range(1,n+1):\n",
    "        if i%2 == 1:\n",
    "            answer +='수'\n",
    "        else:\n",
    "            answer +='박'\n",
    "    \n",
    "    return answer"
   ]
  },
  {
   "cell_type": "code",
   "execution_count": 5,
   "metadata": {
    "colab": {
     "base_uri": "https://localhost:8080/",
     "height": 197
    },
    "colab_type": "code",
    "id": "VN0qDwmzDG9h",
    "outputId": "72437eec-99e6-4d4f-b135-12ed99575b37"
   },
   "outputs": [
    {
     "name": "stdout",
     "output_type": "stream",
     "text": [
      "수\n",
      "수박\n",
      "수박수\n",
      "수박수박\n",
      "수박수박수\n",
      "수박수박수박\n",
      "수박수박수박수\n",
      "수박수박수박수박\n",
      "수박수박수박수박수\n",
      "수박수박수박수박수박\n"
     ]
    }
   ],
   "source": [
    "for i in range(1,11):\n",
    "    print(solution02(i))"
   ]
  },
  {
   "cell_type": "code",
   "execution_count": 6,
   "metadata": {
    "colab": {},
    "colab_type": "code",
    "id": "iQXD-E1kCHHZ"
   },
   "outputs": [],
   "source": [
    "# 3번 타입\n",
    "def solution03(n):\n",
    "    wm = '수박' * 5000\n",
    "  \n",
    "    return wm[:n]"
   ]
  },
  {
   "cell_type": "code",
   "execution_count": 7,
   "metadata": {
    "colab": {
     "base_uri": "https://localhost:8080/",
     "height": 197
    },
    "colab_type": "code",
    "id": "SiFFwnEADI5e",
    "outputId": "9ed5185e-d1da-480c-cde2-30daeeba2216"
   },
   "outputs": [
    {
     "name": "stdout",
     "output_type": "stream",
     "text": [
      "수\n",
      "수박\n",
      "수박수\n",
      "수박수박\n",
      "수박수박수\n",
      "수박수박수박\n",
      "수박수박수박수\n",
      "수박수박수박수박\n",
      "수박수박수박수박수\n",
      "수박수박수박수박수박\n"
     ]
    }
   ],
   "source": [
    "for i in range(1,11):\n",
    "    print(solution03(i))"
   ]
  },
  {
   "cell_type": "code",
   "execution_count": 8,
   "metadata": {
    "colab": {},
    "colab_type": "code",
    "id": "vO-2OkE3CgZ4"
   },
   "outputs": [],
   "source": [
    "# 4번 타입\n",
    "def solution04(n):\n",
    "    wm = ['수' if i % 2 == 1 else '박' for i in range(1,n+1)]\n",
    "    wm = ''.join(wm)\n",
    "    return wm"
   ]
  },
  {
   "cell_type": "code",
   "execution_count": 9,
   "metadata": {
    "colab": {
     "base_uri": "https://localhost:8080/",
     "height": 190
    },
    "colab_type": "code",
    "id": "qzIXEv6VDKyJ",
    "outputId": "6db32b5a-406f-45dc-8c28-7428ffea537f"
   },
   "outputs": [
    {
     "name": "stdout",
     "output_type": "stream",
     "text": [
      "수\n",
      "수박\n",
      "수박수\n",
      "수박수박\n",
      "수박수박수\n",
      "수박수박수박\n",
      "수박수박수박수\n",
      "수박수박수박수박\n",
      "수박수박수박수박수\n",
      "수박수박수박수박수박\n"
     ]
    }
   ],
   "source": [
    "for i in range(1,11):\n",
    "    print(solution04(i))"
   ]
  },
  {
   "cell_type": "code",
   "execution_count": null,
   "metadata": {
    "colab": {},
    "colab_type": "code",
    "id": "XNrXme9IC3Go"
   },
   "outputs": [],
   "source": []
  }
 ],
 "metadata": {
  "colab": {
   "include_colab_link": true,
   "name": "181023_수박수박수",
   "provenance": [],
   "version": "0.3.2"
  },
  "kernelspec": {
   "display_name": "Python 3",
   "language": "python",
   "name": "python3"
  },
  "language_info": {
   "codemirror_mode": {
    "name": "ipython",
    "version": 3
   },
   "file_extension": ".py",
   "mimetype": "text/x-python",
   "name": "python",
   "nbconvert_exporter": "python",
   "pygments_lexer": "ipython3",
   "version": "3.6.5"
  }
 },
 "nbformat": 4,
 "nbformat_minor": 2
}
