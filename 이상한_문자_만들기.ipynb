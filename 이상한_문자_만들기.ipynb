{
 "cells": [
  {
   "cell_type": "markdown",
   "metadata": {},
   "source": [
    "# 이상한 문자 만들기\n",
    "\n",
    "[문제링크](https://programmers.co.kr/learn/courses/30/lessons/12930?language=python3)\n",
    "\n",
    "### 문제 설명\n",
    "\n",
    "문자열 s는 한 개 이상의 단어로 구성되어 있습니다. 각 단어는 하나 이상의 공백문자로 구분되어 있습니다. 각 단어의 짝수번째 알파벳은 대문자로, 홀수번째 알파벳은 소문자로 바꾼 문자열을 리턴하는 함수, solution을 완성하세요.\n",
    "\n",
    "### 제한 사항\n",
    "\n",
    "- 문자열 전체의 짝/홀수 인덱스가 아니라, 단어(공백을 기준)별로 짝/홀수 인덱스를 판단해야합니다.\n",
    "\n",
    "### 입출력 예\n",
    "\n",
    "| s               | return          |\n",
    "| --------------- | --------------- |\n",
    "| try hello world | TrY HeLlO WoRlD |\n",
    "\n",
    "### 입출력 예 설명\n",
    "\n",
    "try hello world는 세 단어 try, hello, world로 구성되어 있습니다. 각 단어의 짝수번째 문자를 대문자로, 홀수번째 문자를 소문자로 바꾸면 TrY, HeLlO, WoRlD입니다. 따라서 TrY HeLlO WoRlD 를 리턴합니다."
   ]
  },
  {
   "cell_type": "code",
   "execution_count": 222,
   "metadata": {},
   "outputs": [
    {
     "data": {
      "text/plain": [
       "'TYHLOWRD'"
      ]
     },
     "execution_count": 222,
     "metadata": {},
     "output_type": "execute_result"
    }
   ],
   "source": [
    "'try hello world'[0::2].upper()"
   ]
  },
  {
   "cell_type": "markdown",
   "metadata": {},
   "source": [
    "https://stackoverflow.com/questions/48351334/slicing-a-list-starting-from-given-index-and-jumping-stepping-it-with-some-integ/48351342"
   ]
  },
  {
   "cell_type": "code",
   "execution_count": 223,
   "metadata": {},
   "outputs": [],
   "source": [
    "words = \"try hello world\".split(' ')"
   ]
  },
  {
   "cell_type": "code",
   "execution_count": 224,
   "metadata": {},
   "outputs": [
    {
     "data": {
      "text/plain": [
       "['try', 'hello', 'world']"
      ]
     },
     "execution_count": 224,
     "metadata": {},
     "output_type": "execute_result"
    }
   ],
   "source": [
    "words"
   ]
  },
  {
   "cell_type": "code",
   "execution_count": 226,
   "metadata": {},
   "outputs": [
    {
     "data": {
      "text/plain": [
       "'TY'"
      ]
     },
     "execution_count": 226,
     "metadata": {},
     "output_type": "execute_result"
    }
   ],
   "source": [
    "words[0][0::2].upper()"
   ]
  },
  {
   "cell_type": "code",
   "execution_count": 214,
   "metadata": {},
   "outputs": [],
   "source": [
    "answer = []\n",
    "for i in range(len(words)):\n",
    "    answer.append(words[i][0::2].upper())"
   ]
  },
  {
   "cell_type": "code",
   "execution_count": 215,
   "metadata": {},
   "outputs": [
    {
     "data": {
      "text/plain": [
       "['TY', 'HLO', 'WRD']"
      ]
     },
     "execution_count": 215,
     "metadata": {},
     "output_type": "execute_result"
    }
   ],
   "source": [
    "answer"
   ]
  },
  {
   "cell_type": "code",
   "execution_count": 216,
   "metadata": {},
   "outputs": [
    {
     "name": "stdout",
     "output_type": "stream",
     "text": [
      "0 try\n",
      "1 hello\n",
      "2 world\n"
     ]
    }
   ],
   "source": [
    "for i, w in enumerate(words):\n",
    "    print(i, w)"
   ]
  },
  {
   "cell_type": "code",
   "execution_count": 217,
   "metadata": {},
   "outputs": [],
   "source": [
    "words[0] = words[0].replace(words[0][0],words[0][0].upper())\n",
    "words[0] = words[0].replace(words[0][2],words[0][2].upper())\n",
    "\n",
    "words[1] = words[1].replace(words[1][0],words[1][0].upper())\n",
    "words[1] = words[1].replace(words[1][2],words[1][2].upper())\n",
    "words[1] = words[1].replace(words[1][4],words[1][4].upper())\n",
    "\n",
    "words[2] = words[2].replace(words[2][0],words[2][0].upper())\n",
    "words[2] = words[2].replace(words[2][2],words[2][2].upper())\n",
    "words[2] = words[2].replace(words[2][4],words[2][4].upper())"
   ]
  },
  {
   "cell_type": "code",
   "execution_count": 272,
   "metadata": {},
   "outputs": [
    {
     "data": {
      "text/plain": [
       "['try', 'hello', 'world']"
      ]
     },
     "execution_count": 272,
     "metadata": {},
     "output_type": "execute_result"
    }
   ],
   "source": [
    "words"
   ]
  },
  {
   "cell_type": "code",
   "execution_count": 290,
   "metadata": {},
   "outputs": [],
   "source": [
    "words = \"try hello world\".split(' ')"
   ]
  },
  {
   "cell_type": "code",
   "execution_count": 219,
   "metadata": {},
   "outputs": [],
   "source": [
    "for i, word in enumerate(words):\n",
    "    word = word.replace(word[0], word[0].upper())\n",
    "    word = word.replace(word[2], word[2].upper())"
   ]
  },
  {
   "cell_type": "markdown",
   "metadata": {},
   "source": [
    "https://stackoverflow.com/questions/32480808/how-to-skip-the-index-in-python-for-loop/32480880"
   ]
  },
  {
   "cell_type": "code",
   "execution_count": 319,
   "metadata": {},
   "outputs": [],
   "source": [
    "def solution(s):\n",
    "    words = s.split(' ')\n",
    "    answer = ''\n",
    "    for i in words:\n",
    "        for j in i[0::2]:\n",
    "            i = i.replace(j,j.upper())\n",
    "        answer = answer + ' ' + i\n",
    "    return answer"
   ]
  },
  {
   "cell_type": "code",
   "execution_count": 320,
   "metadata": {},
   "outputs": [
    {
     "data": {
      "text/plain": [
       "' TrY HeLLO WoRlD'"
      ]
     },
     "execution_count": 320,
     "metadata": {},
     "output_type": "execute_result"
    }
   ],
   "source": [
    "solution('try hello world')"
   ]
  },
  {
   "cell_type": "markdown",
   "metadata": {},
   "source": [
    "얼추 비슷하게는 나왔지만, 문제가 생겼다. replace문에서 j는 for문을 돌며 각 글자 두개씩을 뛰며 도는데, raplace문의 문법상, 해당되는 단어 전부를 찾아 바꾸어버린다는 단점이 있어 l이 뽑히고, ll이 모두 LL로 변환된 것이다.  \n",
    "인덱스만을 이용하여 바꾸는 법을 다시 연구해봐야겠다."
   ]
  },
  {
   "cell_type": "code",
   "execution_count": 332,
   "metadata": {},
   "outputs": [],
   "source": [
    "def solution(s):\n",
    "    words = s.split(' ')\n",
    "    answer = ''\n",
    "    for i in words:\n",
    "        for j in range(0,len(i),2):\n",
    "            i = i.replace(i[j],i[j].upper())\n",
    "        answer = answer + ' ' + i\n",
    "    return answer"
   ]
  },
  {
   "cell_type": "code",
   "execution_count": 333,
   "metadata": {},
   "outputs": [
    {
     "data": {
      "text/plain": [
       "' TrY HeLLO WoRlD'"
      ]
     },
     "execution_count": 333,
     "metadata": {},
     "output_type": "execute_result"
    }
   ],
   "source": [
    "solution('try hello world')"
   ]
  },
  {
   "cell_type": "markdown",
   "metadata": {},
   "source": [
    "#### 흠... 이걸 어쩐다......🤔\n",
    "\n",
    "https://stackoverflow.com/questions/1228299/change-one-character-in-a-string"
   ]
  },
  {
   "cell_type": "code",
   "execution_count": 463,
   "metadata": {},
   "outputs": [],
   "source": [
    "words = \"try hello world\".split(' ')"
   ]
  },
  {
   "cell_type": "code",
   "execution_count": 467,
   "metadata": {},
   "outputs": [
    {
     "data": {
      "text/plain": [
       "'hello'"
      ]
     },
     "execution_count": 467,
     "metadata": {},
     "output_type": "execute_result"
    }
   ],
   "source": [
    "words[1]"
   ]
  },
  {
   "cell_type": "code",
   "execution_count": 470,
   "metadata": {},
   "outputs": [
    {
     "data": {
      "text/plain": [
       "['h', 'e', 'l', 'l', 'o']"
      ]
     },
     "execution_count": 470,
     "metadata": {},
     "output_type": "execute_result"
    }
   ],
   "source": [
    "lst = list(words[1])\n",
    "lst"
   ]
  },
  {
   "cell_type": "code",
   "execution_count": 526,
   "metadata": {},
   "outputs": [],
   "source": [
    "words = \"try hello world\".split(' ')\n",
    "answer = ''\n",
    "for w in words:\n",
    "    lst = list(w)\n",
    "    for i in range(0,len(lst),2):\n",
    "        lst[i] = lst[i].upper()\n",
    "    answer = answer + ''.join(lst) + ' '"
   ]
  },
  {
   "cell_type": "code",
   "execution_count": 527,
   "metadata": {},
   "outputs": [
    {
     "data": {
      "text/plain": [
       "'TrY HeLlO WoRlD'"
      ]
     },
     "execution_count": 527,
     "metadata": {},
     "output_type": "execute_result"
    }
   ],
   "source": [
    "answer[:-1]"
   ]
  },
  {
   "cell_type": "code",
   "execution_count": 537,
   "metadata": {},
   "outputs": [],
   "source": [
    "def solution(s):\n",
    "    words = s.split(' ')\n",
    "    answer = \"\"\n",
    "    \n",
    "    for w in words:\n",
    "        lst = list(w)\n",
    "        for i in range(0,len(lst),2):\n",
    "            lst[i] = lst[i].upper()\n",
    "        for i in range(1,len(lst),2):\n",
    "            lst[i] = lst[i].lower()\n",
    "            \n",
    "        answer = answer + \"\".join(lst) + ' '\n",
    "    \n",
    "    return answer[:-1]"
   ]
  },
  {
   "cell_type": "code",
   "execution_count": 540,
   "metadata": {},
   "outputs": [
    {
     "data": {
      "text/plain": [
       "'TrY HeLlO WoRlD HiHi ImSeYoUnG'"
      ]
     },
     "execution_count": 540,
     "metadata": {},
     "output_type": "execute_result"
    }
   ],
   "source": [
    "solution('try hello world hIhI IMSEYOUNG')"
   ]
  },
  {
   "cell_type": "code",
   "execution_count": null,
   "metadata": {},
   "outputs": [],
   "source": []
  }
 ],
 "metadata": {
  "kernelspec": {
   "display_name": "Python 3",
   "language": "python",
   "name": "python3"
  },
  "language_info": {
   "codemirror_mode": {
    "name": "ipython",
    "version": 3
   },
   "file_extension": ".py",
   "mimetype": "text/x-python",
   "name": "python",
   "nbconvert_exporter": "python",
   "pygments_lexer": "ipython3",
   "version": "3.6.5"
  }
 },
 "nbformat": 4,
 "nbformat_minor": 2
}
