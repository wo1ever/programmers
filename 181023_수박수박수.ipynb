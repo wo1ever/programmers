{
  "nbformat": 4,
  "nbformat_minor": 0,
  "metadata": {
    "colab": {
      "name": "181023_수박수박수",
      "version": "0.3.2",
      "provenance": [],
      "include_colab_link": true
    },
    "kernelspec": {
      "name": "python3",
      "display_name": "Python 3"
    }
  },
  "cells": [
    {
      "cell_type": "markdown",
      "metadata": {
        "id": "view-in-github",
        "colab_type": "text"
      },
      "source": [
        "[View in Colaboratory](https://colab.research.google.com/github/wo1ever/programmers/blob/master/181023_%EC%88%98%EB%B0%95%EC%88%98%EB%B0%95%EC%88%98.ipynb)"
      ]
    },
    {
      "metadata": {
        "id": "fC2CapdKBN3a",
        "colab_type": "text"
      },
      "cell_type": "markdown",
      "source": [
        "문제 설명\n",
        "\n",
        "길이가 n이고, 수박수박수박수....와 같은 패턴을 유지하는 문자열을 리턴하는 함수, solution을 완성하세요.\n",
        "\n",
        "예를들어 n이 4이면 수박수박을 리턴하고 3이라면 수박수를 리턴하면 됩니다.\n",
        "\n",
        "제한 조건\n",
        "\n",
        "n은 길이 10,000이하인 자연수입니다.\n"
      ]
    },
    {
      "metadata": {
        "id": "kH4A3kCHBVnK",
        "colab_type": "code",
        "colab": {}
      },
      "cell_type": "code",
      "source": [
        "# 1번 타입\n",
        "def solution01(n):\n",
        "  answer = ''\n",
        "  \n",
        "  m = n // 2\n",
        "  answer += '수박' * m\n",
        "  \n",
        "  if n % 2 == 1:\n",
        "    answer += '수'\n",
        "  \n",
        "  return answer"
      ],
      "execution_count": 0,
      "outputs": []
    },
    {
      "metadata": {
        "id": "iGv4Ywy-DAco",
        "colab_type": "code",
        "colab": {
          "base_uri": "https://localhost:8080/",
          "height": 197
        },
        "outputId": "ba80894e-1f1b-4421-f701-abfe140cfef7"
      },
      "cell_type": "code",
      "source": [
        "for i in range(1,11):\n",
        "  print(solution01(i))"
      ],
      "execution_count": 9,
      "outputs": [
        {
          "output_type": "stream",
          "text": [
            "수\n",
            "수박\n",
            "수박수\n",
            "수박수박\n",
            "수박수박수\n",
            "수박수박수박\n",
            "수박수박수박수\n",
            "수박수박수박수박\n",
            "수박수박수박수박수\n",
            "수박수박수박수박수박\n"
          ],
          "name": "stdout"
        }
      ]
    },
    {
      "metadata": {
        "id": "wco5B0tPBZYr",
        "colab_type": "code",
        "colab": {}
      },
      "cell_type": "code",
      "source": [
        "# 2번 타입\n",
        "def solution02(n):\n",
        "    answer = ''\n",
        "    \n",
        "    for i in range(1,n+1):\n",
        "        if i%2 == 1:\n",
        "            answer +='수'\n",
        "        else:\n",
        "            answer +='박'\n",
        "    \n",
        "    return answer"
      ],
      "execution_count": 0,
      "outputs": []
    },
    {
      "metadata": {
        "id": "VN0qDwmzDG9h",
        "colab_type": "code",
        "colab": {
          "base_uri": "https://localhost:8080/",
          "height": 197
        },
        "outputId": "72437eec-99e6-4d4f-b135-12ed99575b37"
      },
      "cell_type": "code",
      "source": [
        "for i in range(1,11):\n",
        "  print(solution02(i))"
      ],
      "execution_count": 10,
      "outputs": [
        {
          "output_type": "stream",
          "text": [
            "수\n",
            "수박\n",
            "수박수\n",
            "수박수박\n",
            "수박수박수\n",
            "수박수박수박\n",
            "수박수박수박수\n",
            "수박수박수박수박\n",
            "수박수박수박수박수\n",
            "수박수박수박수박수박\n"
          ],
          "name": "stdout"
        }
      ]
    },
    {
      "metadata": {
        "id": "iQXD-E1kCHHZ",
        "colab_type": "code",
        "colab": {}
      },
      "cell_type": "code",
      "source": [
        "# 3번 타입\n",
        "def solution03(n):\n",
        "    wm = '수박' * 5000\n",
        "  \n",
        "    return wm[:n]"
      ],
      "execution_count": 0,
      "outputs": []
    },
    {
      "metadata": {
        "id": "SiFFwnEADI5e",
        "colab_type": "code",
        "colab": {
          "base_uri": "https://localhost:8080/",
          "height": 197
        },
        "outputId": "9ed5185e-d1da-480c-cde2-30daeeba2216"
      },
      "cell_type": "code",
      "source": [
        "for i in range(1,11):\n",
        "  print(solution03(i))"
      ],
      "execution_count": 11,
      "outputs": [
        {
          "output_type": "stream",
          "text": [
            "수\n",
            "수박\n",
            "수박수\n",
            "수박수박\n",
            "수박수박수\n",
            "수박수박수박\n",
            "수박수박수박수\n",
            "수박수박수박수박\n",
            "수박수박수박수박수\n",
            "수박수박수박수박수박\n"
          ],
          "name": "stdout"
        }
      ]
    },
    {
      "metadata": {
        "id": "vO-2OkE3CgZ4",
        "colab_type": "code",
        "colab": {}
      },
      "cell_type": "code",
      "source": [
        "# 4번 타입\n",
        "def solution04(n):\n",
        "    wm = ['수' if i % 2 == 1 else '박' for i in range(1,n+1)]\n",
        "    wm = ''.join(wm)\n",
        "    return wm"
      ],
      "execution_count": 0,
      "outputs": []
    },
    {
      "metadata": {
        "id": "qzIXEv6VDKyJ",
        "colab_type": "code",
        "colab": {
          "base_uri": "https://localhost:8080/",
          "height": 190
        },
        "outputId": "6db32b5a-406f-45dc-8c28-7428ffea537f"
      },
      "cell_type": "code",
      "source": [
        "for i in range(1,11):\n",
        "  print(solution04(i))"
      ],
      "execution_count": 2,
      "outputs": [
        {
          "output_type": "stream",
          "text": [
            "수\n",
            "수박\n",
            "수박수\n",
            "수박수박\n",
            "수박수박수\n",
            "수박수박수박\n",
            "수박수박수박수\n",
            "수박수박수박수박\n",
            "수박수박수박수박수\n",
            "수박수박수박수박수박\n"
          ],
          "name": "stdout"
        }
      ]
    },
    {
      "metadata": {
        "id": "XNrXme9IC3Go",
        "colab_type": "code",
        "colab": {}
      },
      "cell_type": "code",
      "source": [
        ""
      ],
      "execution_count": 0,
      "outputs": []
    }
  ]
}